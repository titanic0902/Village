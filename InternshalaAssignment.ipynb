{
 "cells": [
  {
   "cell_type": "code",
   "execution_count": 24,
   "id": "7404cd32",
   "metadata": {},
   "outputs": [],
   "source": [
    "import requests\n",
    "from bs4 import BeautifulSoup"
   ]
  },
  {
   "cell_type": "code",
   "execution_count": 25,
   "id": "6c57a72b",
   "metadata": {},
   "outputs": [],
   "source": [
    "url = \"https://www.yelp.com/biz/village-the-soul-of-india-hicksville\"\n",
    "response = requests.get(url)"
   ]
  },
  {
   "cell_type": "code",
   "execution_count": 26,
   "id": "3af3d39a",
   "metadata": {},
   "outputs": [],
   "source": [
    "data = BeautifulSoup(response.text, 'html.parser')"
   ]
  },
  {
   "cell_type": "code",
   "execution_count": 28,
   "id": "8bae6062",
   "metadata": {},
   "outputs": [
    {
     "name": "stdout",
     "output_type": "stream",
     "text": [
      "Restaurant Name: Village the soul of india\n"
     ]
    }
   ],
   "source": [
    "restaurant_name = data.find('h1',class_='y-css-olzveb').text.strip()\n",
    "print(\"Restaurant Name:\",restaurant_name)"
   ]
  },
  {
   "cell_type": "code",
   "execution_count": 29,
   "id": "012baf05",
   "metadata": {},
   "outputs": [
    {
     "name": "stdout",
     "output_type": "stream",
     "text": [
      "Open_Close: 11:30AM-10:00PM\n"
     ]
    }
   ],
   "source": [
    "elements= data.find_all('span', class_='y-css-1jz061g')\n",
    "open_close = None\n",
    "for i in elements:\n",
    "    if \"AM\" in i.text or \"PM\" in i.text:  \n",
    "        open_close = i.text.strip()  \n",
    "        break  \n",
    "\n",
    "if open_close:\n",
    "    formatted_time = open_close.replace(\" \", \"\")  # Remove spaces if needed\n",
    "    print(\"Open_Close:\", formatted_time)\n",
    "else:\n",
    "    print(\"Time element not found!\")\n",
    "\n"
   ]
  },
  {
   "cell_type": "code",
   "execution_count": 30,
   "id": "c0381d71",
   "metadata": {},
   "outputs": [
    {
     "name": "stdout",
     "output_type": "stream",
     "text": [
      "Food Items:\n",
      "Masala Dosa\n",
      "South Indian Thali\n",
      "Sambar\n",
      "Samosa\n",
      "North Indian Thali\n",
      "Gulab Jamun\n",
      "Onion Rava Masala Dosa\n",
      "Bhel Puri\n",
      "Cheese Onion Chili Masala Dosa\n",
      "Matka Dosa\n",
      "Medu Vada\n",
      "Paneer Bhurji\n"
     ]
    }
   ],
   "source": [
    "food_items = [item.text.strip() for item in data.find_all('p', class_='y-css-3s36gp')]\n",
    "\n",
    "# Print the extracted food items\n",
    "print(\"Food Items:\")\n",
    "for food in food_items:\n",
    "    print(food)"
   ]
  },
  {
   "cell_type": "code",
   "execution_count": 31,
   "id": "cd389f33",
   "metadata": {},
   "outputs": [
    {
     "name": "stdout",
     "output_type": "stream",
     "text": [
      "Prices:\n",
      "$12.95\n",
      "$21.95\n",
      "$7.45\n",
      "$6.00\n",
      "$21.95\n",
      "$6.00\n",
      "$14.95\n",
      "$8.95\n",
      "$14.95\n",
      "$18.00\n",
      "$6.00\n",
      "$16.00\n"
     ]
    }
   ],
   "source": [
    "prices = [price.text.strip() for price in data.find_all('span', class_='price__09f24__F1T0p y-css-10rylqc')]\n",
    "\n",
    "# Print the extracted prices\n",
    "print(\"Prices:\")\n",
    "for price in prices:\n",
    "    print(price)"
   ]
  },
  {
   "cell_type": "code",
   "execution_count": 32,
   "id": "880116a4",
   "metadata": {},
   "outputs": [
    {
     "name": "stdout",
     "output_type": "stream",
     "text": [
      "11 West Marie St Hicksville, NY 11801\n"
     ]
    }
   ],
   "source": [
    "address_name = data.find('p',class_='y-css-jbomhy').text\n",
    "print(address_name )"
   ]
  },
  {
   "cell_type": "code",
   "execution_count": null,
   "id": "48a4b92c",
   "metadata": {},
   "outputs": [],
   "source": [
    "\n",
    "\n",
    "    "
   ]
  },
  {
   "cell_type": "code",
   "execution_count": null,
   "id": "000cbd23",
   "metadata": {},
   "outputs": [],
   "source": []
  },
  {
   "cell_type": "code",
   "execution_count": null,
   "id": "1becdb13",
   "metadata": {},
   "outputs": [],
   "source": []
  }
 ],
 "metadata": {
  "kernelspec": {
   "display_name": "Python 3 (ipykernel)",
   "language": "python",
   "name": "python3"
  },
  "language_info": {
   "codemirror_mode": {
    "name": "ipython",
    "version": 3
   },
   "file_extension": ".py",
   "mimetype": "text/x-python",
   "name": "python",
   "nbconvert_exporter": "python",
   "pygments_lexer": "ipython3",
   "version": "3.10.9"
  }
 },
 "nbformat": 4,
 "nbformat_minor": 5
}
